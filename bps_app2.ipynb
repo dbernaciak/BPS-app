{
 "cells": [
  {
   "cell_type": "code",
   "execution_count": 10,
   "id": "6aaac2d0-125d-4642-86bb-a28d42f8a546",
   "metadata": {},
   "outputs": [
    {
     "name": "stdout",
     "output_type": "stream",
     "text": [
      "The autoreload extension is already loaded. To reload it, use:\n",
      "  %reload_ext autoreload\n"
     ]
    }
   ],
   "source": [
    "import numpy as np\n",
    "import scipy.stats as st\n",
    "import seaborn as sns\n",
    "import matplotlib.pyplot as plt\n",
    "from matplotlib.widgets import Slider, Button, TextBox, RadioButtons\n",
    "from ipywidgets.widgets.interaction import show_inline_matplotlib_plots\n",
    "from BPS.synthesis import prior_pdf, synthesise_2_agents_fast\n",
    "from BPS.synthesis_plots import plot, plot_2_agents, plot_2_agents_fast\n",
    "sns.set_style(\"whitegrid\")\n",
    "\n",
    "%load_ext autoreload\n",
    "%autoreload 2\n",
    "%matplotlib widget"
   ]
  },
  {
   "cell_type": "code",
   "execution_count": 50,
   "id": "50373739-4366-42e9-aa59-79d1535f1960",
   "metadata": {},
   "outputs": [],
   "source": [
    "def update_3(val):\n",
    "    global mu_1\n",
    "    global mu_2\n",
    "    global sig_1\n",
    "    global sig_2\n",
    "    mu_1 = mu1_slider.val\n",
    "    mu_2 = mu2_slider.val\n",
    "    sig_1 = sig1_slider.val\n",
    "    sig_2 = sig2_slider.val\n",
    "    agent1 = st.norm(loc=mu_1, scale=sig_1)\n",
    "    agent2 = st.norm(loc=mu_2, scale=sig_2)\n",
    "    mix = synthesise_2_agents_fast(cor_slider.val, r_1, r_2, d, agent1, agent2, q1, q2, np.arange(-6, 6, 0.01))\n",
    "    axs.lines[1].set_ydata(mix)\n",
    "    axs.lines[2].set_ydata(agent1.pdf(xs))\n",
    "    axs.lines[3].set_ydata(agent2.pdf(xs))\n",
    "    fig.canvas.draw_idle()"
   ]
  },
  {
   "cell_type": "markdown",
   "id": "ba0a9c93-4567-422f-b2f0-8a610c7e9bd7",
   "metadata": {},
   "source": [
    "# Bayesian Predictive Synthesis\n",
    "Based on ``Bayesian Predictive Synthesis: Forecast Calibration and Combination'' (2018) by Matthew C. Johnson and Mike West. All mistakes (if any are present) are mine and not the authors of the paper."
   ]
  },
  {
   "cell_type": "markdown",
   "id": "a659c366-7f6d-4973-aeb0-57f954e13cf4",
   "metadata": {
    "tags": []
   },
   "source": [
    "## Gaussian kernel, 2 agents"
   ]
  },
  {
   "cell_type": "markdown",
   "id": "de92a3f6-2236-4813-9f78-b83f850d6d8e",
   "metadata": {},
   "source": [
    "Synthesis equation:\n",
    "$$\\pi(y|H) = \\int\\alpha(y|x)h(x)dx = \\left[ \\int \\alpha_0(x) h(x) dx \\right] \\pi_0(x) + \\sum q_j \\left[ \\int \\alpha_j(y,x_{-j}) \\prod_{i\\neq j} h_i(x_i) dx_i \\right] h_j(y)$$\n",
    "\n",
    "$$m(x) \\sim N(0, 1) $$\n",
    "$$\\pi_0(x) \\sim N(0,1) $$\n",
    "\n",
    "Agent's forecasts are $h(x)$, and $m(x)=E[h(x)]$ that is it's your expectation as to what agent forecast will be.\n",
    "\n",
    "Snthesis function:\n",
    "$$a(x) =  exp[-(e_j)^2 / (2 r_1 \\delta_j^2)]\\left(1 - dexp[-(e_j)^2 / (2 r_2 \\delta_j^2)]\\right) $$\n",
    "$$e_j = x_j - \\rho x_{-j}$$"
   ]
  },
  {
   "cell_type": "code",
   "execution_count": 51,
   "id": "1234694b-e057-458a-bb97-550fe638f992",
   "metadata": {},
   "outputs": [],
   "source": [
    "mu_1 = 2\n",
    "sig_1 = 1\n",
    "mu_2 = 2.5\n",
    "sig_2 = 1\n",
    "cor = 0.0\n",
    "r_1 = 72.13\n",
    "r_2 = 2.89\n",
    "d = 1\n",
    "q1 = 1/2.5\n",
    "q2 = 1/2.5\n",
    "prior = st.norm\n",
    "agent1 = st.norm(loc=mu_1, scale=sig_1)\n",
    "agent2 = st.norm(loc=mu_2, scale=sig_2)"
   ]
  },
  {
   "cell_type": "code",
   "execution_count": 1,
   "id": "7be07bc9-6c8e-41b6-aa31-3c194486bdb5",
   "metadata": {},
   "outputs": [
    {
     "ename": "NameError",
     "evalue": "name 'plt' is not defined",
     "output_type": "error",
     "traceback": [
      "\u001b[1;31m---------------------------------------------------------------------------\u001b[0m",
      "\u001b[1;31mNameError\u001b[0m                                 Traceback (most recent call last)",
      "\u001b[1;32mC:\\Users\\BEARBU~1\\AppData\\Local\\Temp/ipykernel_18720/1437094531.py\u001b[0m in \u001b[0;36m<module>\u001b[1;34m\u001b[0m\n\u001b[1;32m----> 1\u001b[1;33m \u001b[0mfig\u001b[0m\u001b[1;33m,\u001b[0m \u001b[0maxs\u001b[0m \u001b[1;33m=\u001b[0m \u001b[0mplt\u001b[0m\u001b[1;33m.\u001b[0m\u001b[0msubplots\u001b[0m\u001b[1;33m(\u001b[0m\u001b[1;36m1\u001b[0m\u001b[1;33m,\u001b[0m\u001b[1;36m1\u001b[0m\u001b[1;33m,\u001b[0m \u001b[0mfigsize\u001b[0m\u001b[1;33m=\u001b[0m\u001b[1;33m(\u001b[0m\u001b[1;36m12\u001b[0m\u001b[1;33m,\u001b[0m\u001b[1;36m6\u001b[0m\u001b[1;33m)\u001b[0m\u001b[1;33m)\u001b[0m\u001b[1;33m\u001b[0m\u001b[1;33m\u001b[0m\u001b[0m\n\u001b[0m\u001b[0;32m      2\u001b[0m \u001b[0mxs\u001b[0m \u001b[1;33m=\u001b[0m \u001b[0mnp\u001b[0m\u001b[1;33m.\u001b[0m\u001b[0marange\u001b[0m\u001b[1;33m(\u001b[0m\u001b[1;33m-\u001b[0m\u001b[1;36m5\u001b[0m\u001b[1;33m,\u001b[0m \u001b[1;36m5\u001b[0m\u001b[1;33m,\u001b[0m \u001b[1;36m0.1\u001b[0m\u001b[1;33m)\u001b[0m\u001b[1;33m\u001b[0m\u001b[1;33m\u001b[0m\u001b[0m\n\u001b[0;32m      3\u001b[0m \u001b[0mmix\u001b[0m \u001b[1;33m=\u001b[0m \u001b[0msynthesise_2_agents_fast\u001b[0m\u001b[1;33m(\u001b[0m\u001b[0mcor\u001b[0m\u001b[1;33m,\u001b[0m \u001b[0mr_1\u001b[0m\u001b[1;33m,\u001b[0m \u001b[0mr_2\u001b[0m\u001b[1;33m,\u001b[0m \u001b[0md\u001b[0m\u001b[1;33m,\u001b[0m \u001b[0magent1\u001b[0m\u001b[1;33m,\u001b[0m \u001b[0magent2\u001b[0m\u001b[1;33m,\u001b[0m \u001b[0mq1\u001b[0m\u001b[1;33m,\u001b[0m \u001b[0mq2\u001b[0m\u001b[1;33m,\u001b[0m \u001b[0mnp\u001b[0m\u001b[1;33m.\u001b[0m\u001b[0marange\u001b[0m\u001b[1;33m(\u001b[0m\u001b[1;33m-\u001b[0m\u001b[1;36m6\u001b[0m\u001b[1;33m,\u001b[0m \u001b[1;36m6\u001b[0m\u001b[1;33m,\u001b[0m \u001b[1;36m0.01\u001b[0m\u001b[1;33m)\u001b[0m\u001b[1;33m)\u001b[0m\u001b[1;33m\u001b[0m\u001b[1;33m\u001b[0m\u001b[0m\n\u001b[0;32m      4\u001b[0m \u001b[0mplot_2_agents_fast\u001b[0m\u001b[1;33m(\u001b[0m\u001b[0maxs\u001b[0m\u001b[1;33m,\u001b[0m \u001b[0mxs\u001b[0m\u001b[1;33m,\u001b[0m \u001b[0mmix\u001b[0m\u001b[1;33m,\u001b[0m \u001b[0magent1\u001b[0m\u001b[1;33m,\u001b[0m \u001b[0magent2\u001b[0m\u001b[1;33m)\u001b[0m\u001b[1;33m\u001b[0m\u001b[1;33m\u001b[0m\u001b[0m\n\u001b[0;32m      5\u001b[0m \u001b[0mplt\u001b[0m\u001b[1;33m.\u001b[0m\u001b[0msubplots_adjust\u001b[0m\u001b[1;33m(\u001b[0m\u001b[0mleft\u001b[0m\u001b[1;33m=\u001b[0m\u001b[1;36m0.25\u001b[0m\u001b[1;33m,\u001b[0m \u001b[0mbottom\u001b[0m\u001b[1;33m=\u001b[0m\u001b[1;36m0.3\u001b[0m\u001b[1;33m)\u001b[0m\u001b[1;33m\u001b[0m\u001b[1;33m\u001b[0m\u001b[0m\n",
      "\u001b[1;31mNameError\u001b[0m: name 'plt' is not defined"
     ]
    }
   ],
   "source": [
    "fig, axs = plt.subplots(1,1, figsize=(12,6))\n",
    "xs = np.arange(-5, 5, 0.1)\n",
    "mix = synthesise_2_agents_fast(cor, r_1, r_2, d, agent1, agent2, q1, q2, np.arange(-6, 6, 0.01))\n",
    "plot_2_agents_fast(axs, xs, mix, agent1, agent2)\n",
    "plt.subplots_adjust(left=0.25, bottom=0.3)\n",
    "\n",
    "axcor = plt.axes([0.25, 0.22, 0.65, 0.02], facecolor='white')\n",
    "ax_mu1 = plt.axes([0.25, 0.19, 0.65, 0.02], facecolor='white')\n",
    "ax_sig1 = plt.axes([0.25, 0.16, 0.65, 0.02], facecolor='white')\n",
    "ax_mu2 = plt.axes([0.25, 0.13, 0.65, 0.02], facecolor='white')\n",
    "ax_sig2 = plt.axes([0.25, 0.10, 0.65, 0.02], facecolor='white')\n",
    "resetax = plt.axes([0.8, 0.025, 0.1, 0.04])\n",
    "\n",
    "button = Button(resetax, 'Reset', color=\"white\", hovercolor='0.975')\n",
    "def reset(event):\n",
    "    cor_slider.reset()\n",
    "    mu1_slider.reset()\n",
    "    mu2_slider.reset()\n",
    "    sig1_slider.reset()\n",
    "    sig2_slider.reset()\n",
    "    \n",
    "button.on_clicked(reset)\n",
    "\n",
    "q_ax = fig.add_axes([0.1, 0.8, 0.05, 0.05])\n",
    "q_box = TextBox(q_ax, \"$q_1$:\", initial=\"0.4\")\n",
    "\n",
    "q2_ax = fig.add_axes([0.1, 0.7, 0.05, 0.05])\n",
    "q2_box = TextBox(q2_ax, \"$q_2$:\", initial=\"0.4\")\n",
    "\n",
    "r_ax = fig.add_axes([0.1, 0.6, 0.05, 0.05])\n",
    "r_box = TextBox(r_ax, \"$r_1$:\", initial=\"72.13\")\n",
    "\n",
    "r2_ax = fig.add_axes([0.1, 0.5, 0.05, 0.05])\n",
    "r2_box = TextBox(r2_ax, \"$r_2$:\", initial=\"2.89\")\n",
    "\n",
    "d_ax = fig.add_axes([0.1, 0.4, 0.05, 0.05])\n",
    "d_box = TextBox(d_ax, \"$d$:\", initial=\"1.0\")\n",
    "\n",
    "def q_submit(expr):\n",
    "    global q1\n",
    "    q1 = eval(expr)\n",
    "    assert q1 + q2 <= 1\n",
    "    mix = synthesise_2_agents_fast(cor_slider.val, r_1, r_2, d, agent1, agent2, q1, q2, np.arange(-6, 6, 0.01))\n",
    "    axs.lines[1].set_ydata(mix)\n",
    "    fig.canvas.draw_idle()\n",
    "    \n",
    "    \n",
    "def q2_submit(expr):\n",
    "    global q2\n",
    "    q2 = eval(expr)\n",
    "    assert q1 + q2 <= 1\n",
    "    mix = synthesise_2_agents_fast(cor_slider.val, r_1, r_2, d, agent1, agent2, q1, q2, np.arange(-6, 6, 0.01))\n",
    "    axs.lines[1].set_ydata(mix)\n",
    "    fig.canvas.draw_idle()\n",
    "    \n",
    "def r_submit(expr):\n",
    "    global r_1\n",
    "    r_1 = eval(expr)\n",
    "    mix = synthesise_2_agents_fast(cor_slider.val, r_1, r_2, d, agent1, agent2, q1, q2, np.arange(-6, 6, 0.01))\n",
    "    axs.lines[1].set_ydata(mix)\n",
    "    fig.canvas.draw_idle()\n",
    "    \n",
    "def r2_submit(expr):\n",
    "    global r_2\n",
    "    r_2 = eval(expr)\n",
    "    mix = synthesise_2_agents_fast(cor_slider.val, r_1, r_2, d, agent1, agent2, q1, q2, np.arange(-6, 6, 0.01))\n",
    "    axs.lines[1].set_ydata(mix)\n",
    "    fig.canvas.draw_idle()\n",
    "    \n",
    "def d_submit(expr):\n",
    "    global d\n",
    "    d = eval(expr)\n",
    "    mix = synthesise_2_agents_fast(cor_slider.val, r_1, r_2, d, agent1, agent2, q1, q2, np.arange(-6, 6, 0.01))\n",
    "    axs.lines[1].set_ydata(mix)\n",
    "    fig.canvas.draw_idle()\n",
    "    \n",
    "\n",
    "q_box.on_submit(q_submit)\n",
    "q2_box.on_submit(q2_submit)\n",
    "r_box.on_submit(r_submit)\n",
    "r2_box.on_submit(r2_submit)\n",
    "d_box.on_submit(d_submit)\n",
    "\n",
    "\n",
    "cor_slider = Slider(ax=axcor, label=\"Agent correlation\", valmin=-1, valmax=1, valinit=0, color=\"black\")\n",
    "mu1_slider = Slider(ax=ax_mu1, label='Agent 1 mean', valmin=-2.5, valmax=2.5, valinit=2, color=\"black\")\n",
    "sig1_slider = Slider(ax=ax_sig1, label='Agent 1 std', valmin=0.5, valmax=1.5, valinit=1, color=\"black\")\n",
    "mu2_slider = Slider(ax=ax_mu2, label='Agent 2 mean', valmin=-2.5, valmax=2.5, valinit=2.5, color=\"black\")\n",
    "sig2_slider = Slider(ax=ax_sig2, label='Agent 2 std', valmin=0.5, valmax=1.5, valinit=1, color=\"black\")\n",
    "\n",
    "cor_slider.on_changed(update_3); mu1_slider.on_changed(update_3); sig1_slider.on_changed(update_3); mu2_slider.on_changed(update_3); sig2_slider.on_changed(update_3)\n",
    "button.on_clicked(reset)"
   ]
  },
  {
   "cell_type": "code",
   "execution_count": null,
   "id": "98fe50c7-6ce5-499a-89cd-9d6cc0014437",
   "metadata": {},
   "outputs": [],
   "source": []
  }
 ],
 "metadata": {
  "kernelspec": {
   "display_name": "Python 3 (ipykernel)",
   "language": "python",
   "name": "python3"
  },
  "language_info": {
   "codemirror_mode": {
    "name": "ipython",
    "version": 3
   },
   "file_extension": ".py",
   "mimetype": "text/x-python",
   "name": "python",
   "nbconvert_exporter": "python",
   "pygments_lexer": "ipython3",
   "version": "3.8.5"
  }
 },
 "nbformat": 4,
 "nbformat_minor": 5
}
