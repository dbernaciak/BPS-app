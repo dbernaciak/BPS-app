{
 "cells": [
  {
   "cell_type": "code",
   "execution_count": 1,
   "id": "6aaac2d0-125d-4642-86bb-a28d42f8a546",
   "metadata": {},
   "outputs": [],
   "source": [
    "import numpy as np\n",
    "import scipy.stats as st\n",
    "import seaborn as sns\n",
    "import matplotlib.pyplot as plt\n",
    "from matplotlib.widgets import Slider, Button, TextBox, RadioButtons\n",
    "from ipywidgets.widgets.interaction import show_inline_matplotlib_plots\n",
    "from BPS.synthesis import prior_pdf, synthesise, synthesise_2_agents\n",
    "from BPS.synthesis_plots import plot, plot_2_agents\n",
    "sns.set_style(\"whitegrid\")\n",
    "\n",
    "%load_ext autoreload\n",
    "%autoreload 2\n",
    "%matplotlib widget"
   ]
  },
  {
   "cell_type": "code",
   "execution_count": 2,
   "id": "50373739-4366-42e9-aa59-79d1535f1960",
   "metadata": {},
   "outputs": [],
   "source": [
    "def update(val):\n",
    "    global sigma \n",
    "    global mu\n",
    "    global f\n",
    "    global s\n",
    "    sigma = sig_slider.val\n",
    "    mu = mu_slider.val\n",
    "    f = f_slider.val\n",
    "    s = s_slider.val\n",
    "    axs.lines[1].set_ydata(synthesise(xs, q, f, s, ax, pi_0))\n",
    "    axs.lines[3].set_ydata(st.norm(loc=f, scale=s).pdf(xs))\n",
    "    fig.canvas.draw_idle()"
   ]
  },
  {
   "cell_type": "markdown",
   "id": "ba0a9c93-4567-422f-b2f0-8a610c7e9bd7",
   "metadata": {},
   "source": [
    "# Bayesian Predictive Synthesis\n",
    "Based on ``Bayesian Predictive Synthesis: Forecast Calibration and Combination'' (2018) by Matthew C. Johnson and Mike West. All mistakes (if any are present) are mine and not the authors of the paper."
   ]
  },
  {
   "cell_type": "markdown",
   "id": "a659c366-7f6d-4973-aeb0-57f954e13cf4",
   "metadata": {
    "tags": []
   },
   "source": [
    "## Gaussian kernel, 1 agent"
   ]
  },
  {
   "cell_type": "markdown",
   "id": "de92a3f6-2236-4813-9f78-b83f850d6d8e",
   "metadata": {},
   "source": [
    "$$m(x) \\sim N(0, 1) $$\n",
    "$$\\pi_0(x) \\sim N(0,1) $$\n",
    "\n",
    "Agent's forecasts are $h(x)$, and $m(x)=E[h(x)]$ that is it's your expectation as to what agent forecast will be.\n",
    "\n",
    "The user can select one of the three possible synthesis functions:\n",
    "$$a(x) = exp[-(x-\\mu)^2 / (2 r_1 \\sigma^2)] $$\n",
    "$$a(x) = 1 - dexp[-(x-\\mu)^2 / (2 r_2 \\sigma^2)] $$\n",
    "$$a(x) =  exp[-(x-\\mu)^2 / (2 r_1 \\sigma^2)]\\left(1 - dexp[-(x-\\mu)^2 / (2 r_2 \\sigma^2)]\\right) $$"
   ]
  },
  {
   "cell_type": "code",
   "execution_count": 8,
   "id": "1234694b-e057-458a-bb97-550fe638f992",
   "metadata": {},
   "outputs": [],
   "source": [
    "q = 0.5\n",
    "r_1 = 1.0\n",
    "r_2 = 1.0\n",
    "mu = 0\n",
    "sigma = 1\n",
    "d = 1\n",
    "pi_0 = st.norm(loc=0, scale=1)\n",
    "mx = st.norm(loc=0, scale=1)# *np.sqrt(r)\n",
    "ax = lambda x: np.exp(-(x-mu)**2 / (2 * r_1 * sigma**2))\n",
    "ax_dict = {\n",
    "            \"$a(x) = exp[-(x-\\mu)^2 / (2 r \\sigma^2)]$\": lambda x: np.exp(-(x-mu)**2 / (2 * r_1 * sigma**2)),\n",
    "            \"$a(x) = 1 - dexp[-(x-\\mu)^2 / (2 r \\sigma^2)]$\": lambda x: 1 - d * np.exp(-(x-mu)**2 / (2*r_2*sigma**2)),\n",
    "            \"$a(x) = exp[-(x-\\mu)^2 / (2 r \\sigma^2)](1 - dexp[-(x-\\mu)^2 / (2 r \\sigma^2)])$\": lambda x: np.exp(-(x-mu)**2 / (2 * r_1 * sigma**2)) * (1 - d * np.exp(-(x-mu)**2 / (2*r_2*sigma**2)))\n",
    "            }"
   ]
  },
  {
   "cell_type": "code",
   "execution_count": 10,
   "id": "7be07bc9-6c8e-41b6-aa31-3c194486bdb5",
   "metadata": {},
   "outputs": [
    {
     "data": {
      "application/vnd.jupyter.widget-view+json": {
       "model_id": "ec6102e0d12a4657b6a2330e128dce4b",
       "version_major": 2,
       "version_minor": 0
      },
      "text/plain": [
       "Canvas(toolbar=Toolbar(toolitems=[('Home', 'Reset original view', 'home', 'home'), ('Back', 'Back to previous …"
      ]
     },
     "metadata": {},
     "output_type": "display_data"
    },
    {
     "data": {
      "text/plain": [
       "1"
      ]
     },
     "execution_count": 10,
     "metadata": {},
     "output_type": "execute_result"
    }
   ],
   "source": [
    "fig, axs = plt.subplots(1,1, figsize=(10,7.5))\n",
    "f = 1; s = np.sqrt(0.1); xs = np.linspace(-5, 5, 1000)\n",
    "plot(axs, xs, q, ax, mx, pi_0, f, s)\n",
    "plt.subplots_adjust(left=0.25, bottom=0.25, top=0.85)\n",
    "\n",
    "axf = plt.axes([0.25, 0.14, 0.65, 0.02], facecolor='white')\n",
    "axstd = plt.axes([0.25, 0.17, 0.65, 0.02], facecolor='white')\n",
    "ax_mu = plt.axes([0.25, 0.11, 0.65, 0.02], facecolor='white')\n",
    "ax_sig = plt.axes([0.25, 0.08, 0.65, 0.02], facecolor='white')\n",
    "radio_ax = plt.axes([0.25, 0.85, 0.65, 0.15], facecolor='white')\n",
    "resetax = plt.axes([0.8, 0.025, 0.1, 0.04])\n",
    "\n",
    "button = Button(resetax, 'Reset', color=\"white\", hovercolor='0.975')\n",
    "def reset(event):\n",
    "    f_slider.reset()\n",
    "    s_slider.reset()\n",
    "    mu_slider.reset()\n",
    "    f_slider.reset()\n",
    "    \n",
    "button.on_clicked(reset)\n",
    "\n",
    "q_ax = fig.add_axes([0.1, 0.8, 0.05, 0.05])# plt.axes([0.1, 0.25, 0.0225, 0.63], facecolor=axcolor)\n",
    "q_box = TextBox(q_ax, \"$q$:\", initial=\"0.5\")\n",
    "\n",
    "r_ax = fig.add_axes([0.1, 0.7, 0.05, 0.05])\n",
    "r_box = TextBox(r_ax, \"$r_1$:\", initial=\"1.0\")\n",
    "\n",
    "r2_ax = fig.add_axes([0.1, 0.6, 0.05, 0.05])\n",
    "r2_box = TextBox(r2_ax, \"$r_2$:\", initial=\"1.0\")\n",
    "\n",
    "d_ax = fig.add_axes([0.1, 0.5, 0.05, 0.05])\n",
    "d_box = TextBox(d_ax, \"$d$:\", initial=\"1.0\")\n",
    "\n",
    "radio = RadioButtons(radio_ax, ('$a(x) = exp[-(x-\\mu)^2 / (2 r \\sigma^2)]$', '$a(x) = 1 - dexp[-(x-\\mu)^2 / (2 r \\sigma^2)]$', '$a(x) = exp[-(x-\\mu)^2 / (2 r \\sigma^2)](1 - dexp[-(x-\\mu)^2 / (2 r \\sigma^2)])$'))\n",
    "\n",
    "def q_submit(expr):\n",
    "    global q\n",
    "    q = eval(expr)\n",
    "    axs.lines[1].set_ydata(synthesise(xs, q, f, s, ax, pi_0))\n",
    "    axs.lines[3].set_ydata(st.norm(loc=f, scale=s).pdf(xs))\n",
    "    fig.canvas.draw_idle()\n",
    "    \n",
    "def r_submit(expr):\n",
    "    global r_1\n",
    "    r_1 = eval(expr)\n",
    "    axs.lines[1].set_ydata(synthesise(xs, q, f, s, ax, pi_0))\n",
    "    fig.canvas.draw_idle()\n",
    "    \n",
    "def r2_submit(expr):\n",
    "    global r_2\n",
    "    r_2 = eval(expr)\n",
    "    axs.lines[1].set_ydata(synthesise(xs, q, f, s, ax, pi_0))\n",
    "    fig.canvas.draw_idle()\n",
    "    \n",
    "def d_submit(expr):\n",
    "    global d\n",
    "    d = eval(expr)\n",
    "    axs.lines[1].set_ydata(synthesise(xs, q, f, s, ax, pi_0))\n",
    "    fig.canvas.draw_idle()\n",
    "    \n",
    "def hzfunc(label):\n",
    "    global ax\n",
    "    ax = ax_dict[label]\n",
    "    axs.lines[1].set_ydata(synthesise(xs, q, f, s, ax, pi_0))\n",
    "    fig.canvas.draw_idle()\n",
    "\n",
    "q_box.on_submit(q_submit)\n",
    "r_box.on_submit(r_submit)\n",
    "r2_box.on_submit(r2_submit)\n",
    "d_box.on_submit(d_submit)\n",
    "radio.on_clicked(hzfunc)\n",
    "\n",
    "f_slider = Slider(ax=axf, label='Agent mean', valmin=-3, valmax=3, valinit=0, color=\"black\")\n",
    "s_slider = Slider(ax=axstd, label=\"Agent standard deviation\", valmin=0, valmax=3, valinit=np.sqrt(0.1), color=\"black\")\n",
    "mu_slider = Slider(ax=ax_mu, label='Location bias', valmin=-3, valmax=3, valinit=0, color=\"black\")\n",
    "sig_slider = Slider(ax=ax_sig, label=\"Scale bias\", valmin=0, valmax=3, valinit=1, color=\"black\")\n",
    "\n",
    "f_slider.on_changed(update); s_slider.on_changed(update); mu_slider.on_changed(update); sig_slider.on_changed(update)\n",
    "button.on_clicked(reset)"
   ]
  }
 ],
 "metadata": {
  "kernelspec": {
   "display_name": "Python 3 (ipykernel)",
   "language": "python",
   "name": "python3"
  },
  "language_info": {
   "codemirror_mode": {
    "name": "ipython",
    "version": 3
   },
   "file_extension": ".py",
   "mimetype": "text/x-python",
   "name": "python",
   "nbconvert_exporter": "python",
   "pygments_lexer": "ipython3",
   "version": "3.8.5"
  }
 },
 "nbformat": 4,
 "nbformat_minor": 5
}
